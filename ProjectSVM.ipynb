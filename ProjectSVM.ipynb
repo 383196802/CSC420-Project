{
  "nbformat": 4,
  "nbformat_minor": 0,
  "metadata": {
    "colab": {
      "name": "ProjectSVM.ipynb",
      "provenance": [],
      "collapsed_sections": []
    },
    "kernelspec": {
      "name": "python3",
      "display_name": "Python 3"
    },
    "accelerator": "GPU"
  },
  "cells": [
    {
      "cell_type": "code",
      "metadata": {
        "id": "gxjVFq3MZQ-q",
        "colab_type": "code",
        "colab": {}
      },
      "source": [
        "# Load the Drive helper and mount\n",
        "from google.colab import drive\n",
        "\n",
        "# This will prompt for authorization.\n",
        "drive.mount('/content/drive')"
      ],
      "execution_count": 0,
      "outputs": []
    },
    {
      "cell_type": "code",
      "metadata": {
        "id": "-kMD1I_EZerT",
        "colab_type": "code",
        "colab": {}
      },
      "source": [
        "import cv2\n",
        "import numpy as np\n",
        "import os\n",
        "from sklearn.preprocessing import StandardScaler\n",
        "from sklearn.model_selection import train_test_split\n",
        "from sklearn.svm import SVC, LinearSVC\n",
        "import matplotlib.pyplot as plt"
      ],
      "execution_count": 0,
      "outputs": []
    },
    {
      "cell_type": "code",
      "metadata": {
        "id": "th7wgT0z0SRu",
        "colab_type": "code",
        "colab": {}
      },
      "source": [
        "hog_extractor = cv2.HOGDescriptor((64, 64), (16, 16), (8, 8), (8, 8), 9)\n",
        "hog_win_stride = (8, 8)\n",
        "SVC = LinearSVC()\n",
        "# SVC = SVC(gamma='scale')"
      ],
      "execution_count": 0,
      "outputs": []
    },
    {
      "cell_type": "code",
      "metadata": {
        "id": "cukGH56nZgWe",
        "colab_type": "code",
        "colab": {}
      },
      "source": [
        "class SVM_Data_Loader:\n",
        "    def __init__(self, data_path, label, hog_extractor, hog_win_stride):\n",
        "        X_list = []\n",
        "        Y_list = []\n",
        "        for image_name in os.listdir(data_path):\n",
        "            try:\n",
        "                file_name = os.path.join(data_path, image_name)\n",
        "                image = cv2.resize(cv2.imread(file_name), (64, 128), interpolation=cv2.INTER_AREA)\n",
        "                hog_feature_vector = hog_extractor.compute(image, hog_win_stride).T[0]\n",
        "                X_list.append(hog_feature_vector)\n",
        "                Y_list.append(label)\n",
        "            except:\n",
        "                continue\n",
        "\n",
        "        self.X = np.asarray(X_list).astype(np.float64)\n",
        "        self.Y = Y_list\n",
        "\n",
        "    def get_X_and_Y(self):\n",
        "        return self.X, self.Y"
      ],
      "execution_count": 0,
      "outputs": []
    },
    {
      "cell_type": "code",
      "metadata": {
        "id": "dz2fywzZkZDN",
        "colab_type": "code",
        "colab": {}
      },
      "source": [
        "class SVM:\n",
        "    def __init__(self, positive_data_loader, negative_data_loader, SVC):\n",
        "        positive_X, positive_Y = positive_data_loader.get_X_and_Y()\n",
        "        negative_X, negative_Y = negative_data_loader.get_X_and_Y()\n",
        "        stack_X = np.vstack((positive_X, negative_X))\n",
        "        stack_Y = np.asarray(positive_Y + negative_Y)\n",
        "\n",
        "        self.X = StandardScaler().fit(stack_X).transform(stack_X)\n",
        "        self.Y = stack_Y\n",
        "        self.SVC = SVC\n",
        "\n",
        "    def train(self):\n",
        "        train_X, test_X, train_Y, test_Y = train_test_split(self.X, self.Y, test_size=0.2)\n",
        "        self.SVC.fit(train_X, train_Y)\n",
        "        score = self.SVC.score(test_X, test_Y)\n",
        "        print(\"Accuracy:\" + str(score * 100.0) + \"%\")\n",
        "\n",
        "    def predict(self, test_X):\n",
        "        return self.SVC.predict(test_X)"
      ],
      "execution_count": 0,
      "outputs": []
    },
    {
      "cell_type": "code",
      "metadata": {
        "id": "svOfNR5ezzsi",
        "colab_type": "code",
        "colab": {}
      },
      "source": [
        "positive_data_loader = SVM_Data_Loader(\"/content/drive/My Drive/CSC420Project/dog_pos\", 1, hog_extractor, hog_win_stride)"
      ],
      "execution_count": 0,
      "outputs": []
    },
    {
      "cell_type": "code",
      "metadata": {
        "id": "OWKUBi2v0efZ",
        "colab_type": "code",
        "colab": {}
      },
      "source": [
        "negative_data_loader = SVM_Data_Loader(\"/content/drive/My Drive/CSC420Project/dog_neg\", 0, hog_extractor, hog_win_stride)"
      ],
      "execution_count": 0,
      "outputs": []
    },
    {
      "cell_type": "code",
      "metadata": {
        "id": "-3HsKLaU0l3F",
        "colab_type": "code",
        "colab": {}
      },
      "source": [
        "dog_svm = SVM(positive_data_loader, negative_data_loader, SVC)"
      ],
      "execution_count": 0,
      "outputs": []
    },
    {
      "cell_type": "code",
      "metadata": {
        "id": "qc_85lUN08ti",
        "colab_type": "code",
        "colab": {}
      },
      "source": [
        "dog_svm.train()"
      ],
      "execution_count": 0,
      "outputs": []
    },
    {
      "cell_type": "code",
      "metadata": {
        "id": "p9Yx5VIsqKAB",
        "colab_type": "code",
        "colab": {}
      },
      "source": [
        "class Dog_Patch_Extractor:\n",
        "    def __init__(self, SVM, hog_extractor, hog_win_stride):\n",
        "        self.SVM = SVM\n",
        "        self.hog_extractor = hog_extractor\n",
        "        self.hog_win_stride = hog_win_stride\n",
        "        self.cache = {}\n",
        "\n",
        "    def extract_dog_patch_from_images(self, data_path, output_path):\n",
        "        self.cache = {}\n",
        "        for image_name in os.listdir(data_path):\n",
        "            file_name = os.path.join(data_path, image_name)\n",
        "            image = cv2.imread(file_name)\n",
        "            window_size_list = [(int(image.shape[0] * 0.5), int(image.shape[1] * 0.5)), (int(image.shape[0] * 0.25), int(image.shape[1] * 0.25)), (int(image.shape[0] * 0.1), int(image.shape[1] * 0.1))]\n",
        "            stride_size_list = [(int(window_size_list[0][0] * 0.1), int(window_size_list[0][1] * 0.1)), (int(window_size_list[1][0] * 0.1), int(window_size_list[1][1] * 0.1)), (int(window_size_list[2][0] * 0.1), int(window_size_list[2][1] * 0.1))]\n",
        "\n",
        "            for i in range(3):\n",
        "                window_size = window_size_list[i]\n",
        "                stride_size = stride_size_list[i]\n",
        "                found, possible_patches_row_col = self.find_possible_dog_patches_with_window(image, window_size, stride_size)\n",
        "                if found:\n",
        "                    final_patch_file_name, rectangle_file_name = self.extract_final_dog_patch(output_path, image_name, image, possible_patches_row_col)\n",
        "                    if final_patch_file_name != \"\" and rectangle_file_name != \"\":\n",
        "                        self.cache[file_name] = [final_patch_file_name, rectangle_file_name]\n",
        "                        break\n",
        "\n",
        "\n",
        "\n",
        "    def find_possible_dog_patches_with_window(self, image, window_size, stride_size):\n",
        "        found = False\n",
        "        possible_patches_row_col = []\n",
        "        for col_end in range(window_size[0], image.shape[1], stride_size[0]):\n",
        "            for row_end in range(window_size[1], image.shape[0], stride_size[1]):\n",
        "                col_start = col_end - window_size[0]\n",
        "                row_start = row_end - window_size[1]\n",
        "                current_patch = image[row_start:row_end, col_start:col_end, :]\n",
        "                hog_feature_vector = self.hog_extractor.compute(cv2.resize(current_patch, (64, 128), interpolation=cv2.INTER_AREA), self.hog_win_stride).T[0]\n",
        "                if self.SVM.predict([hog_feature_vector]) == [1]:\n",
        "                    possible_patches_row_col.append((row_start, row_end, col_start, col_end))\n",
        "                    found = True\n",
        "        return found, possible_patches_row_col\n",
        "\n",
        "\n",
        "\n",
        "    def extract_final_dog_patch(self, output_path, image_name, image, possible_patches_row_col):\n",
        "        row_start_list, row_end_list, col_start_list, col_end_list = [], [], [], []\n",
        "        final_patch_file_name, final_rectangle_file_name = \"\", \"\"\n",
        "        image_copy = image.copy()\n",
        "\n",
        "        for patch_row_col in possible_patches_row_col:\n",
        "            row_start_list.append(patch_row_col[0])\n",
        "            row_end_list.append(patch_row_col[1])\n",
        "            col_start_list.append(patch_row_col[2])\n",
        "            col_end_list.append(patch_row_col[3])\n",
        "            cv2.rectangle(image_copy, (patch_row_col[2], patch_row_col[0]), (patch_row_col[3], patch_row_col[1]), (0, 255, 0), thickness=2)\n",
        "        if len(row_start_list) > 0 and len(row_end_list) > 0 and len(col_start_list) > 0 and len(col_end_list) > 0:\n",
        "            final_row_start = min(row_start_list)\n",
        "            final_row_end = max(row_end_list)\n",
        "            final_col_start = min(col_start_list)\n",
        "            final_col_end = max(col_end_list)\n",
        "\n",
        "            final_patch_file_name = output_path + \"/\" + image_name + \"_final_patch.jpg\"\n",
        "            print(cv2.imwrite(final_patch_file_name, image[final_row_start:final_row_end, final_col_start:final_col_end, :]))\n",
        "\n",
        "            final_rectangle_file_name = output_path + \"/\" + image_name + \"_rectangle.jpg\"\n",
        "            cv2.rectangle(image_copy, (final_col_start, final_row_start), (final_col_end, final_row_end), (255, 255, 0), thickness=3)\n",
        "            print(cv2.imwrite(final_rectangle_file_name, image_copy))\n",
        "            print(\"**********************************************************\")\n",
        "\n",
        "        return final_patch_file_name, final_rectangle_file_name\n",
        "\n",
        "\n",
        "\n",
        "    def get_cache():\n",
        "        return self.cache"
      ],
      "execution_count": 0,
      "outputs": []
    },
    {
      "cell_type": "code",
      "metadata": {
        "id": "dnF_ciC42cJs",
        "colab_type": "code",
        "colab": {}
      },
      "source": [
        "dog_patch_extractor = Dog_Patch_Extractor(dog_svm, hog_extractor, hog_win_stride)"
      ],
      "execution_count": 0,
      "outputs": []
    },
    {
      "cell_type": "code",
      "metadata": {
        "id": "SEvD4wbI2puC",
        "colab_type": "code",
        "colab": {}
      },
      "source": [
        "dog_patch_extractor.extract_dog_patch_from_images(\"/content/drive/My Drive/CSC420Project/test_svm_dog\", \"/content/drive/My Drive/CSC420Project/output2\")"
      ],
      "execution_count": 0,
      "outputs": []
    }
  ]
}